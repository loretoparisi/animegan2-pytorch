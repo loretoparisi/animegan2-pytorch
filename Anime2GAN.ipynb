{
  "nbformat": 4,
  "nbformat_minor": 0,
  "metadata": {
    "colab": {
      "name": "Anime2GAN.ipynb",
      "provenance": [],
      "collapsed_sections": []
    },
    "kernelspec": {
      "name": "python3",
      "display_name": "Python 3"
    },
    "language_info": {
      "name": "python"
    }
  },
  "cells": [
    {
      "cell_type": "code",
      "metadata": {
        "colab": {
          "base_uri": "https://localhost:8080/"
        },
        "id": "8F-UZMf-Rjvt",
        "outputId": "4cbec6bb-e7c7-4af6-c5f8-869c90765fae"
      },
      "source": [
        "# Please BE VERY CAREFUL, this will link your entire drive.\n",
        "# So don't edit code, except the one that says 'Customize the following options',\n",
        "# or you might mess up your files.\n",
        "# IF YOU DO NO WANT TO LINK DRIVE, please see below for an alternative!\n",
        "from google.colab import drive\n",
        "drive.mount('/gdrive')"
      ],
      "execution_count": 12,
      "outputs": [
        {
          "output_type": "stream",
          "name": "stdout",
          "text": [
            "Drive already mounted at /gdrive; to attempt to forcibly remount, call drive.mount(\"/gdrive\", force_remount=True).\n"
          ]
        }
      ]
    },
    {
      "cell_type": "code",
      "metadata": {
        "id": "FBWg3G9jRq_Q"
      },
      "source": [
        "in_path = '/gdrive/MyDrive/anime/in'\n",
        "out_path = '/gdrive/MyDrive/anime/out/'"
      ],
      "execution_count": 13,
      "outputs": []
    },
    {
      "cell_type": "code",
      "metadata": {
        "id": "hqqisr5HRO2c"
      },
      "source": [
        "!pip install torchvision Pillow numpy"
      ],
      "execution_count": null,
      "outputs": []
    },
    {
      "cell_type": "code",
      "metadata": {
        "id": "474LmcwRUYTl",
        "colab": {
          "base_uri": "https://localhost:8080/"
        },
        "outputId": "801fa54d-70f5-42eb-d14a-6464a12988fd"
      },
      "source": [
        "from google.colab import files\n",
        "from pathlib import Path\n",
        "extensions = [\"png\", \"jpeg\", \"jpg\"]\n",
        "\n",
        "def find_files(in_path):\n",
        "    out = []\n",
        "    for file in Path(in_path).iterdir():\n",
        "        if file.suffix.lower().lstrip(\".\") in extensions:\n",
        "            out.append(file)\n",
        "    return out\n",
        "files = [str(f) for f in find_files(in_path)]\n",
        "print(files)"
      ],
      "execution_count": 14,
      "outputs": [
        {
          "output_type": "stream",
          "name": "stdout",
          "text": [
            "['/gdrive/MyDrive/anime/in/1517698446560.jpeg', '/gdrive/MyDrive/anime/in/GIULIO.jpeg', '/gdrive/MyDrive/anime/in/BLUE.jpeg', '/gdrive/MyDrive/anime/in/Anna.jpeg']\n"
          ]
        }
      ]
    },
    {
      "cell_type": "code",
      "metadata": {
        "id": "vPZFVpQMRPxO"
      },
      "source": [
        "import torch\n",
        "import PIL\n",
        "from io import BytesIO\n",
        "\n",
        "images = [ PIL.Image.open(f).convert(\"RGB\") for f in files ]\n",
        "#for ima in images:\n",
        "#  display(ima)"
      ],
      "execution_count": null,
      "outputs": []
    },
    {
      "cell_type": "code",
      "metadata": {
        "id": "GUSEPH6FQuGh",
        "colab": {
          "base_uri": "https://localhost:8080/"
        },
        "outputId": "1729d9f6-88dd-42a7-fc3a-01f8ed5f1aae"
      },
      "source": [
        "\n",
        "# https://github.com/bryandlee/animegan2-pytorch\n",
        "face2paint = torch.hub.load(\n",
        "    'bryandlee/animegan2-pytorch:main', 'face2paint', \n",
        "    # cpu, cuda, xpu, mkldnn, opengl, opencl, ideep, hip, ve, ort, mlc, xla, lazy, vulkan, meta, hpu\n",
        "    size=512, device=\"cpu\"\n",
        ")"
      ],
      "execution_count": 29,
      "outputs": [
        {
          "output_type": "stream",
          "name": "stderr",
          "text": [
            "Using cache found in /root/.cache/torch/hub/bryandlee_animegan2-pytorch_main\n"
          ]
        }
      ]
    },
    {
      "cell_type": "code",
      "metadata": {
        "id": "zlHLcoYmvP8G"
      },
      "source": [
        "def face2paint(model, image, device=\"cpu\", size=512, side_by_side=True):\n",
        "    from PIL import Image\n",
        "    from torchvision.transforms.functional import to_tensor, to_pil_image\n",
        "\n",
        "    def face2paint(\n",
        "        model: torch.nn.Module,\n",
        "        img: Image.Image,\n",
        "        size: int = size,\n",
        "        side_by_side: bool = True,\n",
        "        device: str = device,\n",
        "    ) -> Image.Image:\n",
        "        w, h = img.size\n",
        "        s = min(w, h)\n",
        "        img = img.crop(((w - s) // 2, (h - s) // 2, (w + s) // 2, (h + s) // 2))\n",
        "        img = img.resize((size, size), Image.LANCZOS)\n",
        "\n",
        "        with torch.no_grad():\n",
        "            input = to_tensor(img).unsqueeze(0) * 2 - 1\n",
        "            output = model(input.to(device)).cpu()[0]\n",
        "\n",
        "            if side_by_side:\n",
        "                output = torch.cat([input[0], output], dim=2)\n",
        "\n",
        "            output = (output * 0.5 + 0.5).clip(0, 1)\n",
        "\n",
        "        return to_pil_image(output)\n",
        "\n",
        "    return face2paint(model, image, size, side_by_side, device)"
      ],
      "execution_count": 42,
      "outputs": []
    },
    {
      "cell_type": "code",
      "metadata": {
        "id": "XyXUs4HYp0zY"
      },
      "source": [
        "models = [\"celeba_distill\",\"face_paint_512_v1\",\"face_paint_512_v2\",\"paprika\"]\n",
        "models = [\"paprika\"]\n",
        "for model in models:\n",
        "  model = torch.hub.load(\n",
        "      \"bryandlee/animegan2-pytorch:main\",\n",
        "      \"generator\",\n",
        "      pretrained=model\n",
        "  )\n",
        "  \n",
        "  #img = PIL.Image.open(images[0]).convert(\"RGB\")\n",
        "  for img in images:\n",
        "    out = face2paint(model, img, side_by_side=False)\n",
        "    display(out)"
      ],
      "execution_count": null,
      "outputs": []
    }
  ]
}